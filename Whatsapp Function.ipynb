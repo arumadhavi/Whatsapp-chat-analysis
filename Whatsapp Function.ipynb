{
 "cells": [
  {
   "cell_type": "code",
   "execution_count": null,
   "id": "735d79a8",
   "metadata": {},
   "outputs": [],
   "source": [
    "import os\n",
    "fhand = open('WhatsAppChatwithPGPDSJan22-BLR.txt',encoding = 'utf8')"
   ]
  },
  {
   "cell_type": "code",
   "execution_count": null,
   "id": "d6f67144",
   "metadata": {},
   "outputs": [],
   "source": [
    "content = fhand. read()\n",
    "print(content)"
   ]
  },
  {
   "cell_type": "markdown",
   "id": "b6237972",
   "metadata": {},
   "source": [
    "Q1. Find the list of unique members who has interacted at least once in this group."
   ]
  },
  {
   "cell_type": "code",
   "execution_count": null,
   "id": "7e5a431e",
   "metadata": {},
   "outputs": [],
   "source": [
    "def unique_members(file):\n",
    "    '''Reads Whatsapp text file into a list of strings'''\n",
    "    fhand = open(file,'r', encoding = 'utf-8') \n",
    "    members=[]\n",
    "    for line in fhand:\n",
    "            line=line.strip()     # remove space\n",
    "            if \"-\" in line:  # fetching only lines which has member\n",
    "                line = line[line.find(\":\")+1:]  # fetching line which contain \":\" after \"-\"\n",
    "                if \":\" in line:\n",
    "                    line_chat = line[line.find(\"-\")+1: line.find(\":\") ] #extractuing only chat lines\n",
    "                    members.append(line_chat)\n",
    "\n",
    "    unique_members=[]                    \n",
    "    for line_chat in members:\n",
    "        if line_chat not in unique_members:\n",
    "            unique_members.append(line_chat)   # appending unique member in list\n",
    "\n",
    "    print(unique_members) # print list of unique members who has interacted at least once in group\n",
    "    print(\"Total unique members =\",len(unique_members)) # count of members\n",
    "    \n",
    "    "
   ]
  },
  {
   "cell_type": "code",
   "execution_count": null,
   "id": "70d1026a",
   "metadata": {},
   "outputs": [],
   "source": [
    "unique_members(\"WhatsAppChatwithPGPDSJan22-BLR.txt\")"
   ]
  },
  {
   "cell_type": "code",
   "execution_count": null,
   "id": "c9a40708",
   "metadata": {},
   "outputs": [],
   "source": []
  },
  {
   "cell_type": "markdown",
   "id": "888a6080",
   "metadata": {},
   "source": [
    "Q.2 Design a function named conversation by date(file, date) that will help us to extract the entire \n",
    "conversation which happened on a particular date"
   ]
  },
  {
   "cell_type": "code",
   "execution_count": null,
   "id": "637372c5",
   "metadata": {},
   "outputs": [],
   "source": [
    "def conversation_by_date(file, conv_date):\n",
    "    fhand = open(file, encoding = 'utf8')\n",
    "    conversation=[]\n",
    "    for line in fhand:\n",
    "        line=line.strip()  # remove space\n",
    "        date_changed=conv_date+\",\"    \n",
    "        \n",
    "        if line.startswith(date_changed):   # if line start with chage date\n",
    "            if \"-\" in line:   \n",
    "                line= line[line.find(\":\") +1:]  \n",
    "                if  \":\" in line:                   \n",
    "                    line_chat = line[line.find(\"-\")+1: ]  #extracting only chat lines\n",
    "                    conversation.append(line_chat)         # add to the list\n",
    "    return(conversation)\n"
   ]
  },
  {
   "cell_type": "code",
   "execution_count": null,
   "id": "68cf7761",
   "metadata": {},
   "outputs": [],
   "source": [
    "def conversation_by_date(file, date):\n",
    "    fhand = open(file,encoding = 'utf8')\n",
    "    lst=[]\n",
    "    for line in fhand: \n",
    "        line=line.strip() \n",
    "        #print(line)\n",
    "        date_changed=date+\",\"\n",
    "        \n",
    "        if line.startswith(date_changed):\n",
    "            if \"-\" in line:    #getting only lines which has member\n",
    "                line= line[line.find(\":\") +1:]  #getting only line which contain : once. so that we extract only chat lines further\n",
    "               # print(line)\n",
    "                if  \":\" in line:\n",
    "                     #print(line)\n",
    "                    line_chat = line[line.find(\"-\")+1: ]  #extractuing only chat lines\n",
    "                    lst.append(line_chat)\n",
    "    return(lst)"
   ]
  },
  {
   "cell_type": "code",
   "execution_count": null,
   "id": "a8e57d53",
   "metadata": {},
   "outputs": [],
   "source": [
    "conversation_by_date(\"WhatsAppChatwithPGPDSJan22-BLR.txt\", \"2/11/22\")"
   ]
  },
  {
   "cell_type": "code",
   "execution_count": null,
   "id": "3c351c8e",
   "metadata": {},
   "outputs": [],
   "source": []
  },
  {
   "cell_type": "markdown",
   "id": "6b9090cd",
   "metadata": {},
   "source": [
    "Q3. Design a function named conversation by person (file, person) that will help us to extract all the \n",
    "posts done by a particular person"
   ]
  },
  {
   "cell_type": "code",
   "execution_count": null,
   "id": "534e3944",
   "metadata": {},
   "outputs": [],
   "source": [
    "def conversation_by_person(file, person):\n",
    "    fhand = open(file,encoding = 'utf8')\n",
    "    lst_chat=[]\n",
    "    modified_person = \" \" + person + \":\"\n",
    "    for line in fhand: \n",
    "        line=line.strip() \n",
    "        if \"-\" in line:    #getting only lines which has member\n",
    "            line= line[line.find(\":\") +1:]  #getting only line which contain : once. so that we extract only chat lines further\n",
    "            if  \":\" in line:\n",
    "                line_chat = line[line.find(\"-\")+1: ]  #extractuing only chat lines                \n",
    "                if line_chat.startswith(modified_person):\n",
    "                    chat = line_chat[line_chat.find(\":\")+1:]\n",
    "                    lst_chat.append(chat)\n",
    "    return(lst_chat)\n"
   ]
  },
  {
   "cell_type": "code",
   "execution_count": null,
   "id": "2eeb630a",
   "metadata": {},
   "outputs": [],
   "source": [
    "conversation_by_person(\"WhatsAppChatwithPGPDSJan22-BLR.txt\", \"Praveena Vinod\")"
   ]
  },
  {
   "cell_type": "code",
   "execution_count": null,
   "id": "bae884a6",
   "metadata": {},
   "outputs": [],
   "source": []
  },
  {
   "cell_type": "markdown",
   "id": "e6ee2864",
   "metadata": {},
   "source": [
    "Q4. Which part of the day (AM or PM) does this group experience most conversation?"
   ]
  },
  {
   "cell_type": "code",
   "execution_count": null,
   "id": "cb55e850",
   "metadata": {},
   "outputs": [],
   "source": [
    "def time_most_conversation(file):\n",
    "    fhand = open(file,encoding = 'utf8') #opening file\n",
    "    am_conversation=0\n",
    "    pm_conversation=0\n",
    "    for line in fhand:\n",
    "        line=line.strip() \n",
    "        if line.count(\":\") >= 2:  #checking if colon exists in string at least 2 times\n",
    "            if line.find('-')==15: #reconfirming that we are extracting only chat line\n",
    "                time= line[line.find(', ')+2:line.find(\":\")] #extracting exact time in hour\n",
    "                time=int(time) #converting string type of time into int\n",
    "                if time < 12:\n",
    "                    am_conversation +=1\n",
    "                if time >= 12:\n",
    "                    pm_conversation +=1\n",
    "    if am_conversation>pm_conversation:\n",
    "        print(\"This group experience most conversation in AM part of the day\")\n",
    "    elif pm_conversation>am_conversation:\n",
    "        print(\"This group experience most conversation in PM part of the day\")\n",
    "    else:\n",
    "        print(\"This group experience equal conversation in PM and AM part of the day\")  \n"
   ]
  },
  {
   "cell_type": "code",
   "execution_count": null,
   "id": "89eaa158",
   "metadata": {},
   "outputs": [],
   "source": [
    "time_most_conversation('WhatsAppChatwithPGPDSJan22-BLR.txt')"
   ]
  },
  {
   "cell_type": "code",
   "execution_count": null,
   "id": "2b6e9d7f",
   "metadata": {},
   "outputs": [],
   "source": []
  },
  {
   "cell_type": "markdown",
   "id": "d8b5e6bb",
   "metadata": {},
   "source": [
    "Q5.Find the frequency distribution of the hours…"
   ]
  },
  {
   "cell_type": "code",
   "execution_count": null,
   "id": "317d88e1",
   "metadata": {},
   "outputs": [],
   "source": [
    "fhand = open('WhatsAppChatwithPGPDSJan22-BLR.txt',encoding = 'utf8')\n",
    "count_hours = {}\n",
    "for line in fhand:\n",
    "    line=line.strip() \n",
    "    #print(line)\n",
    "    if line.count(\":\") >= 2:  #checking if colon exists in string at least 2 times\n",
    "        line_chat=line\n",
    "        time = line[line.find(\", \")+2:line.find(\"-\")] #fetching exact time in hour with minutes\n",
    "        time_hour= time[:time.find(\":\")] #fetching time with hour \n",
    "\n",
    "        if len(time_hour) <= 2:     # checking for time\n",
    "            count_hours[time_hour]=count_hours.get(time_hour,0) +1\n",
    "            keys = list(count_hours.keys())\n",
    "            keys.sort()\n",
    "        \n",
    "for key in keys:\n",
    "    #frequency dtsrtibution of each hour\n",
    "    print(key, count_hours[key])"
   ]
  },
  {
   "cell_type": "code",
   "execution_count": null,
   "id": "9ac042ad",
   "metadata": {},
   "outputs": [],
   "source": []
  },
  {
   "cell_type": "markdown",
   "id": "616b4837",
   "metadata": {},
   "source": [
    "Q6. Design a function named avg_length_by_person (file, person) that will help us to get the \n",
    "average length of the messages posted by a particular person."
   ]
  },
  {
   "cell_type": "code",
   "execution_count": null,
   "id": "842aa1bd",
   "metadata": {},
   "outputs": [],
   "source": [
    "def avg_length_by_person(file, person):\n",
    "    count=0\n",
    "    lst_chat=[]\n",
    "    fhand = open(file,encoding = 'utf8') \n",
    "    modified_person = \" \" + person + \":\"\n",
    "    for line in fhand: \n",
    "        line=line.strip() \n",
    "        if \"-\" in line:    #getting only lines which has member\n",
    "            line= line[line.find(\":\") +1:]  #getting only line which contain : once. so that we extract only chat lines further       \n",
    "            if  \":\" in line:               \n",
    "                line_chat = line[line.find(\"-\")+1: ]  #extractuing only chat lines\n",
    "               \n",
    "                if line_chat.startswith(modified_person):\n",
    "                    chat= line_chat[line_chat.find(\":\")+1:]\n",
    "                    count+=1\n",
    "                    trans = str.maketrans(\"\",\"\",\" \")  #excluding spaces in messages\n",
    "                    chat=chat.translate(trans) \n",
    "                    lst_chat.append(chat)\n",
    "\n",
    "    letters_len= 0\n",
    "    for message in lst_chat:\n",
    "        letters_len= letters_len+len(message)\n",
    "    avg_length=letters_len/ count\n",
    "    return(avg_length)\n"
   ]
  },
  {
   "cell_type": "code",
   "execution_count": null,
   "id": "b9dce8f6",
   "metadata": {},
   "outputs": [],
   "source": [
    "avg_length_by_person('WhatsAppChatwithPGPDSJan22-BLR.txt', 'Gourab Nath Praxis')"
   ]
  }
 ],
 "metadata": {
  "kernelspec": {
   "display_name": "Python 3 (ipykernel)",
   "language": "python",
   "name": "python3"
  },
  "language_info": {
   "codemirror_mode": {
    "name": "ipython",
    "version": 3
   },
   "file_extension": ".py",
   "mimetype": "text/x-python",
   "name": "python",
   "nbconvert_exporter": "python",
   "pygments_lexer": "ipython3",
   "version": "3.9.7"
  }
 },
 "nbformat": 4,
 "nbformat_minor": 5
}
